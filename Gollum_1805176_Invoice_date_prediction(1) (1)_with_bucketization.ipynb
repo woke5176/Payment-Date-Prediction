{
  "nbformat": 4,
  "nbformat_minor": 0,
  "metadata": {
    "kernelspec": {
      "display_name": "Python 3",
      "language": "python",
      "name": "python3"
    },
    "language_info": {
      "codemirror_mode": {
        "name": "ipython",
        "version": 3
      },
      "file_extension": ".py",
      "mimetype": "text/x-python",
      "name": "python",
      "nbconvert_exporter": "python",
      "pygments_lexer": "ipython3",
      "version": "3.8.3"
    },
    "colab": {
      "name": "Gollum_1805176_Invoice_date_prediction(1).ipynb",
      "provenance": [],
      "collapsed_sections": []
    },
    "accelerator": "GPU"
  },
  "cells": [
    {
      "cell_type": "code",
      "metadata": {
        "id": "SA27qTmgjKqm"
      },
      "source": [
        "#importing neccessary packages\n",
        "import pandas as pd\n",
        "import numpy as np\n",
        "import os\n",
        "import matplotlib.pyplot as plt\n",
        "import seaborn as sns\n",
        "%matplotlib inline"
      ],
      "execution_count": 2,
      "outputs": []
    },
    {
      "cell_type": "code",
      "metadata": {
        "colab": {
          "resources": {
            "http://localhost:8080/nbextensions/google.colab/files.js": {
              "data": "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",
              "ok": true,
              "headers": [
                [
                  "content-type",
                  "application/javascript"
                ]
              ],
              "status": 200,
              "status_text": ""
            }
          },
          "base_uri": "https://localhost:8080/",
          "height": 73
        },
        "id": "mLYMT5WEjKq4",
        "outputId": "c96b007f-9abf-49d5-a286-96d8f3c6908e"
      },
      "source": [
        "#loading the dataset\n",
        "from google.colab import files\n",
        "uploaded = files.upload()\n"
      ],
      "execution_count": 3,
      "outputs": [
        {
          "output_type": "display_data",
          "data": {
            "text/html": [
              "\n",
              "     <input type=\"file\" id=\"files-9c029a83-dff3-4559-9b1b-042f9b207509\" name=\"files[]\" multiple disabled\n",
              "        style=\"border:none\" />\n",
              "     <output id=\"result-9c029a83-dff3-4559-9b1b-042f9b207509\">\n",
              "      Upload widget is only available when the cell has been executed in the\n",
              "      current browser session. Please rerun this cell to enable.\n",
              "      </output>\n",
              "      <script src=\"/nbextensions/google.colab/files.js\"></script> "
            ],
            "text/plain": [
              "<IPython.core.display.HTML object>"
            ]
          },
          "metadata": {
            "tags": []
          }
        },
        {
          "output_type": "stream",
          "text": [
            "Saving 1805176.csv to 1805176.csv\n"
          ],
          "name": "stdout"
        }
      ]
    },
    {
      "cell_type": "code",
      "metadata": {
        "id": "PQyCT33tjcTR"
      },
      "source": [
        "import io\n",
        "df = pd.read_csv(io.BytesIO(uploaded['1805176.csv']))"
      ],
      "execution_count": 4,
      "outputs": []
    },
    {
      "cell_type": "code",
      "metadata": {
        "colab": {
          "base_uri": "https://localhost:8080/",
          "height": 317
        },
        "id": "TxuRFVWLjKq5",
        "outputId": "2b4d6f0a-d535-4193-cdf9-32ed63e22ca1"
      },
      "source": [
        "#getting the first look\n",
        "df.head()"
      ],
      "execution_count": 5,
      "outputs": [
        {
          "output_type": "execute_result",
          "data": {
            "text/html": [
              "<div>\n",
              "<style scoped>\n",
              "    .dataframe tbody tr th:only-of-type {\n",
              "        vertical-align: middle;\n",
              "    }\n",
              "\n",
              "    .dataframe tbody tr th {\n",
              "        vertical-align: top;\n",
              "    }\n",
              "\n",
              "    .dataframe thead th {\n",
              "        text-align: right;\n",
              "    }\n",
              "</style>\n",
              "<table border=\"1\" class=\"dataframe\">\n",
              "  <thead>\n",
              "    <tr style=\"text-align: right;\">\n",
              "      <th></th>\n",
              "      <th>business_code</th>\n",
              "      <th>cust_number</th>\n",
              "      <th>name_customer</th>\n",
              "      <th>clear_date</th>\n",
              "      <th>buisness_year</th>\n",
              "      <th>doc_id</th>\n",
              "      <th>posting_date</th>\n",
              "      <th>document_create_date</th>\n",
              "      <th>document_create_date.1</th>\n",
              "      <th>due_in_date</th>\n",
              "      <th>invoice_currency</th>\n",
              "      <th>document type</th>\n",
              "      <th>posting_id</th>\n",
              "      <th>area_business</th>\n",
              "      <th>total_open_amount</th>\n",
              "      <th>baseline_create_date</th>\n",
              "      <th>cust_payment_terms</th>\n",
              "      <th>invoice_id</th>\n",
              "      <th>isOpen</th>\n",
              "    </tr>\n",
              "  </thead>\n",
              "  <tbody>\n",
              "    <tr>\n",
              "      <th>0</th>\n",
              "      <td>U001</td>\n",
              "      <td>0200769623</td>\n",
              "      <td>WAL-MAR co</td>\n",
              "      <td>2019-12-03 00:00:00</td>\n",
              "      <td>2019.0</td>\n",
              "      <td>1.930185e+09</td>\n",
              "      <td>2019-11-22</td>\n",
              "      <td>20191122</td>\n",
              "      <td>20191122</td>\n",
              "      <td>20191207.0</td>\n",
              "      <td>USD</td>\n",
              "      <td>RV</td>\n",
              "      <td>1.0</td>\n",
              "      <td>NaN</td>\n",
              "      <td>23362.84</td>\n",
              "      <td>20191122.0</td>\n",
              "      <td>NAH4</td>\n",
              "      <td>1.930185e+09</td>\n",
              "      <td>0</td>\n",
              "    </tr>\n",
              "    <tr>\n",
              "      <th>1</th>\n",
              "      <td>U001</td>\n",
              "      <td>0200744019</td>\n",
              "      <td>TARG foundation</td>\n",
              "      <td>2020-01-29 00:00:00</td>\n",
              "      <td>2020.0</td>\n",
              "      <td>1.930392e+09</td>\n",
              "      <td>2020-01-14</td>\n",
              "      <td>20200113</td>\n",
              "      <td>20200114</td>\n",
              "      <td>20200129.0</td>\n",
              "      <td>USD</td>\n",
              "      <td>RV</td>\n",
              "      <td>1.0</td>\n",
              "      <td>NaN</td>\n",
              "      <td>3977.47</td>\n",
              "      <td>20200114.0</td>\n",
              "      <td>NAA8</td>\n",
              "      <td>1.930392e+09</td>\n",
              "      <td>0</td>\n",
              "    </tr>\n",
              "    <tr>\n",
              "      <th>2</th>\n",
              "      <td>U001</td>\n",
              "      <td>0200704045</td>\n",
              "      <td>RA associates</td>\n",
              "      <td>2019-07-05 00:00:00</td>\n",
              "      <td>2019.0</td>\n",
              "      <td>1.929518e+09</td>\n",
              "      <td>2019-06-20</td>\n",
              "      <td>20190620</td>\n",
              "      <td>20190620</td>\n",
              "      <td>20190705.0</td>\n",
              "      <td>USD</td>\n",
              "      <td>RV</td>\n",
              "      <td>1.0</td>\n",
              "      <td>NaN</td>\n",
              "      <td>26230.18</td>\n",
              "      <td>20190620.0</td>\n",
              "      <td>NAA8</td>\n",
              "      <td>1.929518e+09</td>\n",
              "      <td>0</td>\n",
              "    </tr>\n",
              "    <tr>\n",
              "      <th>3</th>\n",
              "      <td>U001</td>\n",
              "      <td>0200793568</td>\n",
              "      <td>SUPE associates</td>\n",
              "      <td>2019-05-20 00:00:00</td>\n",
              "      <td>2019.0</td>\n",
              "      <td>1.929252e+09</td>\n",
              "      <td>2019-05-03</td>\n",
              "      <td>20190503</td>\n",
              "      <td>20190503</td>\n",
              "      <td>20190518.0</td>\n",
              "      <td>USD</td>\n",
              "      <td>RV</td>\n",
              "      <td>1.0</td>\n",
              "      <td>NaN</td>\n",
              "      <td>81606.25</td>\n",
              "      <td>20190503.0</td>\n",
              "      <td>NAA8</td>\n",
              "      <td>1.929252e+09</td>\n",
              "      <td>0</td>\n",
              "    </tr>\n",
              "    <tr>\n",
              "      <th>4</th>\n",
              "      <td>U001</td>\n",
              "      <td>200761734</td>\n",
              "      <td>H E BUT corporation</td>\n",
              "      <td>2019-02-05 00:00:00</td>\n",
              "      <td>2019.0</td>\n",
              "      <td>1.928652e+09</td>\n",
              "      <td>2019-01-22</td>\n",
              "      <td>20190119</td>\n",
              "      <td>20190122</td>\n",
              "      <td>20190206.0</td>\n",
              "      <td>USD</td>\n",
              "      <td>RV</td>\n",
              "      <td>1.0</td>\n",
              "      <td>NaN</td>\n",
              "      <td>15293.58</td>\n",
              "      <td>20190122.0</td>\n",
              "      <td>NAA8</td>\n",
              "      <td>1.928652e+09</td>\n",
              "      <td>0</td>\n",
              "    </tr>\n",
              "  </tbody>\n",
              "</table>\n",
              "</div>"
            ],
            "text/plain": [
              "  business_code cust_number  ...    invoice_id isOpen\n",
              "0          U001  0200769623  ...  1.930185e+09      0\n",
              "1          U001  0200744019  ...  1.930392e+09      0\n",
              "2          U001  0200704045  ...  1.929518e+09      0\n",
              "3          U001  0200793568  ...  1.929252e+09      0\n",
              "4          U001   200761734  ...  1.928652e+09      0\n",
              "\n",
              "[5 rows x 19 columns]"
            ]
          },
          "metadata": {
            "tags": []
          },
          "execution_count": 5
        }
      ]
    },
    {
      "cell_type": "code",
      "metadata": {
        "colab": {
          "base_uri": "https://localhost:8080/"
        },
        "id": "fYS4tvJ3jKq_",
        "outputId": "2ba324ea-3044-4f51-aa2d-46e42fc51a5a"
      },
      "source": [
        "df.info()"
      ],
      "execution_count": 6,
      "outputs": [
        {
          "output_type": "stream",
          "text": [
            "<class 'pandas.core.frame.DataFrame'>\n",
            "RangeIndex: 50000 entries, 0 to 49999\n",
            "Data columns (total 19 columns):\n",
            " #   Column                  Non-Null Count  Dtype  \n",
            "---  ------                  --------------  -----  \n",
            " 0   business_code           50000 non-null  object \n",
            " 1   cust_number             50000 non-null  object \n",
            " 2   name_customer           50000 non-null  object \n",
            " 3   clear_date              45863 non-null  object \n",
            " 4   buisness_year           50000 non-null  float64\n",
            " 5   doc_id                  50000 non-null  float64\n",
            " 6   posting_date            50000 non-null  object \n",
            " 7   document_create_date    50000 non-null  int64  \n",
            " 8   document_create_date.1  50000 non-null  int64  \n",
            " 9   due_in_date             50000 non-null  float64\n",
            " 10  invoice_currency        50000 non-null  object \n",
            " 11  document type           50000 non-null  object \n",
            " 12  posting_id              50000 non-null  float64\n",
            " 13  area_business           0 non-null      float64\n",
            " 14  total_open_amount       50000 non-null  float64\n",
            " 15  baseline_create_date    50000 non-null  float64\n",
            " 16  cust_payment_terms      50000 non-null  object \n",
            " 17  invoice_id              49995 non-null  float64\n",
            " 18  isOpen                  50000 non-null  int64  \n",
            "dtypes: float64(8), int64(3), object(8)\n",
            "memory usage: 7.2+ MB\n"
          ],
          "name": "stdout"
        }
      ]
    },
    {
      "cell_type": "code",
      "metadata": {
        "id": "PnC6IXl3JJGT"
      },
      "source": [
        ""
      ],
      "execution_count": 6,
      "outputs": []
    },
    {
      "cell_type": "code",
      "metadata": {
        "colab": {
          "base_uri": "https://localhost:8080/",
          "height": 892
        },
        "id": "mz35x2qLjKrA",
        "outputId": "eebbd5d3-c90a-4116-f459-2adda888fc35"
      },
      "source": [
        "#getting the first visualization using matplotlib\n",
        "df.hist(bins=50, figsize=(20,15))\n",
        "plt.show()"
      ],
      "execution_count": 7,
      "outputs": [
        {
          "output_type": "display_data",
          "data": {
            "image/png": "[encoded data removed]",
            "text/plain": [
              "<Figure size 1440x1080 with 12 Axes>"
            ]
          },
          "metadata": {
            "tags": [],
            "needs_background": "light"
          }
        }
      ]
    },
    {
      "cell_type": "code",
      "metadata": {
        "colab": {
          "base_uri": "https://localhost:8080/",
          "height": 281
        },
        "id": "2tEvKzM8jKrC",
        "outputId": "98056483-767a-4bfc-899d-d573c8367eae"
      },
      "source": [
        "df['total_open_amount'].hist()"
      ],
      "execution_count": 8,
      "outputs": [
        {
          "output_type": "execute_result",
          "data": {
            "text/plain": [
              "<matplotlib.axes._subplots.AxesSubplot at 0x7f8278fe3240>"
            ]
          },
          "metadata": {
            "tags": []
          },
          "execution_count": 8
        },
        {
          "output_type": "display_data",
          "data": {
            "image/png": "[encoded data removed]",
            "text/plain": [
              "<Figure size 432x288 with 1 Axes>"
            ]
          },
          "metadata": {
            "tags": [],
            "needs_background": "light"
          }
        }
      ]
    },
    {
      "cell_type": "markdown",
      "metadata": {
        "id": "dZ7F-LdZjKrE"
      },
      "source": [
        "The total_amount varies very much so it cannot be capped or normalized"
      ]
    },
    {
      "cell_type": "code",
      "metadata": {
        "colab": {
          "base_uri": "https://localhost:8080/",
          "height": 306
        },
        "id": "_onkLv8ujKrF",
        "outputId": "e10a4cd1-b90b-46c8-ced2-d5892447ccae"
      },
      "source": [
        "df.describe()"
      ],
      "execution_count": 9,
      "outputs": [
        {
          "output_type": "execute_result",
          "data": {
            "text/html": [
              "<div>\n",
              "<style scoped>\n",
              "    .dataframe tbody tr th:only-of-type {\n",
              "        vertical-align: middle;\n",
              "    }\n",
              "\n",
              "    .dataframe tbody tr th {\n",
              "        vertical-align: top;\n",
              "    }\n",
              "\n",
              "    .dataframe thead th {\n",
              "        text-align: right;\n",
              "    }\n",
              "</style>\n",
              "<table border=\"1\" class=\"dataframe\">\n",
              "  <thead>\n",
              "    <tr style=\"text-align: right;\">\n",
              "      <th></th>\n",
              "      <th>buisness_year</th>\n",
              "      <th>doc_id</th>\n",
              "      <th>document_create_date</th>\n",
              "      <th>document_create_date.1</th>\n",
              "      <th>due_in_date</th>\n",
              "      <th>posting_id</th>\n",
              "      <th>area_business</th>\n",
              "      <th>total_open_amount</th>\n",
              "      <th>baseline_create_date</th>\n",
              "      <th>invoice_id</th>\n",
              "      <th>isOpen</th>\n",
              "    </tr>\n",
              "  </thead>\n",
              "  <tbody>\n",
              "    <tr>\n",
              "      <th>count</th>\n",
              "      <td>50000.000000</td>\n",
              "      <td>5.000000e+04</td>\n",
              "      <td>5.000000e+04</td>\n",
              "      <td>5.000000e+04</td>\n",
              "      <td>5.000000e+04</td>\n",
              "      <td>50000.0</td>\n",
              "      <td>0.0</td>\n",
              "      <td>50000.000000</td>\n",
              "      <td>5.000000e+04</td>\n",
              "      <td>4.999500e+04</td>\n",
              "      <td>50000.000000</td>\n",
              "    </tr>\n",
              "    <tr>\n",
              "      <th>mean</th>\n",
              "      <td>2019.203980</td>\n",
              "      <td>2.011290e+09</td>\n",
              "      <td>2.019250e+07</td>\n",
              "      <td>2.019253e+07</td>\n",
              "      <td>2.019269e+07</td>\n",
              "      <td>1.0</td>\n",
              "      <td>NaN</td>\n",
              "      <td>32073.374333</td>\n",
              "      <td>2.019253e+07</td>\n",
              "      <td>2.010541e+09</td>\n",
              "      <td>0.082740</td>\n",
              "    </tr>\n",
              "    <tr>\n",
              "      <th>std</th>\n",
              "      <td>0.402958</td>\n",
              "      <td>2.854703e+08</td>\n",
              "      <td>3.910243e+03</td>\n",
              "      <td>3.894120e+03</td>\n",
              "      <td>3.911997e+03</td>\n",
              "      <td>0.0</td>\n",
              "      <td>NaN</td>\n",
              "      <td>39312.408586</td>\n",
              "      <td>3.893290e+03</td>\n",
              "      <td>2.754853e+08</td>\n",
              "      <td>0.275492</td>\n",
              "    </tr>\n",
              "    <tr>\n",
              "      <th>min</th>\n",
              "      <td>2019.000000</td>\n",
              "      <td>1.928502e+09</td>\n",
              "      <td>2.018123e+07</td>\n",
              "      <td>2.018102e+07</td>\n",
              "      <td>2.018110e+07</td>\n",
              "      <td>1.0</td>\n",
              "      <td>NaN</td>\n",
              "      <td>0.630000</td>\n",
              "      <td>2.018102e+07</td>\n",
              "      <td>1.928502e+09</td>\n",
              "      <td>0.000000</td>\n",
              "    </tr>\n",
              "    <tr>\n",
              "      <th>25%</th>\n",
              "      <td>2019.000000</td>\n",
              "      <td>1.929231e+09</td>\n",
              "      <td>2.019042e+07</td>\n",
              "      <td>2.019042e+07</td>\n",
              "      <td>2.019051e+07</td>\n",
              "      <td>1.0</td>\n",
              "      <td>NaN</td>\n",
              "      <td>4731.915000</td>\n",
              "      <td>2.019042e+07</td>\n",
              "      <td>1.929231e+09</td>\n",
              "      <td>0.000000</td>\n",
              "    </tr>\n",
              "    <tr>\n",
              "      <th>50%</th>\n",
              "      <td>2019.000000</td>\n",
              "      <td>1.929806e+09</td>\n",
              "      <td>2.019081e+07</td>\n",
              "      <td>2.019081e+07</td>\n",
              "      <td>2.019082e+07</td>\n",
              "      <td>1.0</td>\n",
              "      <td>NaN</td>\n",
              "      <td>17187.430000</td>\n",
              "      <td>2.019081e+07</td>\n",
              "      <td>1.929805e+09</td>\n",
              "      <td>0.000000</td>\n",
              "    </tr>\n",
              "    <tr>\n",
              "      <th>75%</th>\n",
              "      <td>2019.000000</td>\n",
              "      <td>1.930400e+09</td>\n",
              "      <td>2.019112e+07</td>\n",
              "      <td>2.019113e+07</td>\n",
              "      <td>2.019121e+07</td>\n",
              "      <td>1.0</td>\n",
              "      <td>NaN</td>\n",
              "      <td>46391.880000</td>\n",
              "      <td>2.019113e+07</td>\n",
              "      <td>1.930400e+09</td>\n",
              "      <td>0.000000</td>\n",
              "    </tr>\n",
              "    <tr>\n",
              "      <th>max</th>\n",
              "      <td>2020.000000</td>\n",
              "      <td>9.500000e+09</td>\n",
              "      <td>2.020052e+07</td>\n",
              "      <td>2.020052e+07</td>\n",
              "      <td>2.020071e+07</td>\n",
              "      <td>1.0</td>\n",
              "      <td>NaN</td>\n",
              "      <td>838758.370000</td>\n",
              "      <td>2.020052e+07</td>\n",
              "      <td>2.960636e+09</td>\n",
              "      <td>1.000000</td>\n",
              "    </tr>\n",
              "  </tbody>\n",
              "</table>\n",
              "</div>"
            ],
            "text/plain": [
              "       buisness_year        doc_id  ...    invoice_id        isOpen\n",
              "count   50000.000000  5.000000e+04  ...  4.999500e+04  50000.000000\n",
              "mean     2019.203980  2.011290e+09  ...  2.010541e+09      0.082740\n",
              "std         0.402958  2.854703e+08  ...  2.754853e+08      0.275492\n",
              "min      2019.000000  1.928502e+09  ...  1.928502e+09      0.000000\n",
              "25%      2019.000000  1.929231e+09  ...  1.929231e+09      0.000000\n",
              "50%      2019.000000  1.929806e+09  ...  1.929805e+09      0.000000\n",
              "75%      2019.000000  1.930400e+09  ...  1.930400e+09      0.000000\n",
              "max      2020.000000  9.500000e+09  ...  2.960636e+09      1.000000\n",
              "\n",
              "[8 rows x 11 columns]"
            ]
          },
          "metadata": {
            "tags": []
          },
          "execution_count": 9
        }
      ]
    },
    {
      "cell_type": "markdown",
      "metadata": {
        "id": "iTk0v-18jKrH"
      },
      "source": [
        "##### Feature Engineering"
      ]
    },
    {
      "cell_type": "code",
      "metadata": {
        "id": "EWjiBBn5jKrI"
      },
      "source": [
        "#separating the data on which the prediction is to be done.\n",
        "invoice = df[(df['clear_date'].notnull() & (df['isOpen'] == 0))]\n",
        "df_pred = df[(df['clear_date'].isnull() & (df['isOpen'] == 1))]"
      ],
      "execution_count": 10,
      "outputs": []
    },
    {
      "cell_type": "code",
      "metadata": {
        "id": "xvlaMPzmjKrJ"
      },
      "source": [
        "#formatting all date related to a similar pattern\n",
        "def format_dates(data):\n",
        "    data['due_in_date']=pd.to_datetime(data['due_in_date'],format='%Y%m%d')\n",
        "    data['clear_date']=pd.to_datetime(data['clear_date'])\n",
        "    data['posting_date']=pd.to_datetime(data['posting_date'])\n",
        "    data['baseline_create_date']=pd.to_datetime(data['baseline_create_date'],format='%Y%m%d')\n",
        "    data['document_create_date.1']=pd.to_datetime(data['document_create_date.1'],format='%Y%m%d')"
      ],
      "execution_count": 11,
      "outputs": []
    },
    {
      "cell_type": "code",
      "metadata": {
        "colab": {
          "base_uri": "https://localhost:8080/"
        },
        "id": "d-qnbrj6jKrM",
        "outputId": "c894c3de-2bcf-42d0-fdfa-5b7795903339"
      },
      "source": [
        "format_dates(invoice)"
      ],
      "execution_count": 12,
      "outputs": [
        {
          "output_type": "stream",
          "text": [
            "/usr/local/lib/python3.6/dist-packages/ipykernel_launcher.py:3: SettingWithCopyWarning: \n",
            "A value is trying to be set on a copy of a slice from a DataFrame.\n",
            "Try using .loc[row_indexer,col_indexer] = value instead\n",
            "\n",
            "See the caveats in the documentation: https://pandas.pydata.org/pandas-docs/stable/user_guide/indexing.html#returning-a-view-versus-a-copy\n",
            "  This is separate from the ipykernel package so we can avoid doing imports until\n",
            "/usr/local/lib/python3.6/dist-packages/ipykernel_launcher.py:4: SettingWithCopyWarning: \n",
            "A value is trying to be set on a copy of a slice from a DataFrame.\n",
            "Try using .loc[row_indexer,col_indexer] = value instead\n",
            "\n",
            "See the caveats in the documentation: https://pandas.pydata.org/pandas-docs/stable/user_guide/indexing.html#returning-a-view-versus-a-copy\n",
            "  after removing the cwd from sys.path.\n",
            "/usr/local/lib/python3.6/dist-packages/ipykernel_launcher.py:5: SettingWithCopyWarning: \n",
            "A value is trying to be set on a copy of a slice from a DataFrame.\n",
            "Try using .loc[row_indexer,col_indexer] = value instead\n",
            "\n",
            "See the caveats in the documentation: https://pandas.pydata.org/pandas-docs/stable/user_guide/indexing.html#returning-a-view-versus-a-copy\n",
            "  \"\"\"\n",
            "/usr/local/lib/python3.6/dist-packages/ipykernel_launcher.py:6: SettingWithCopyWarning: \n",
            "A value is trying to be set on a copy of a slice from a DataFrame.\n",
            "Try using .loc[row_indexer,col_indexer] = value instead\n",
            "\n",
            "See the caveats in the documentation: https://pandas.pydata.org/pandas-docs/stable/user_guide/indexing.html#returning-a-view-versus-a-copy\n",
            "  \n",
            "/usr/local/lib/python3.6/dist-packages/ipykernel_launcher.py:7: SettingWithCopyWarning: \n",
            "A value is trying to be set on a copy of a slice from a DataFrame.\n",
            "Try using .loc[row_indexer,col_indexer] = value instead\n",
            "\n",
            "See the caveats in the documentation: https://pandas.pydata.org/pandas-docs/stable/user_guide/indexing.html#returning-a-view-versus-a-copy\n",
            "  import sys\n"
          ],
          "name": "stderr"
        }
      ]
    },
    {
      "cell_type": "code",
      "metadata": {
        "colab": {
          "base_uri": "https://localhost:8080/",
          "height": 491
        },
        "id": "b5uS5chrjKrN",
        "outputId": "13d55908-7175-4ac2-d2c9-7375a4eb81da"
      },
      "source": [
        "invoice"
      ],
      "execution_count": 13,
      "outputs": [
        {
          "output_type": "execute_result",
          "data": {
            "text/html": [
              "<div>\n",
              "<style scoped>\n",
              "    .dataframe tbody tr th:only-of-type {\n",
              "        vertical-align: middle;\n",
              "    }\n",
              "\n",
              "    .dataframe tbody tr th {\n",
              "        vertical-align: top;\n",
              "    }\n",
              "\n",
              "    .dataframe thead th {\n",
              "        text-align: right;\n",
              "    }\n",
              "</style>\n",
              "<table border=\"1\" class=\"dataframe\">\n",
              "  <thead>\n",
              "    <tr style=\"text-align: right;\">\n",
              "      <th></th>\n",
              "      <th>business_code</th>\n",
              "      <th>cust_number</th>\n",
              "      <th>name_customer</th>\n",
              "      <th>clear_date</th>\n",
              "      <th>buisness_year</th>\n",
              "      <th>doc_id</th>\n",
              "      <th>posting_date</th>\n",
              "      <th>document_create_date</th>\n",
              "      <th>document_create_date.1</th>\n",
              "      <th>due_in_date</th>\n",
              "      <th>invoice_currency</th>\n",
              "      <th>document type</th>\n",
              "      <th>posting_id</th>\n",
              "      <th>area_business</th>\n",
              "      <th>total_open_amount</th>\n",
              "      <th>baseline_create_date</th>\n",
              "      <th>cust_payment_terms</th>\n",
              "      <th>invoice_id</th>\n",
              "      <th>isOpen</th>\n",
              "    </tr>\n",
              "  </thead>\n",
              "  <tbody>\n",
              "    <tr>\n",
              "      <th>0</th>\n",
              "      <td>U001</td>\n",
              "      <td>0200769623</td>\n",
              "      <td>WAL-MAR co</td>\n",
              "      <td>2019-12-03</td>\n",
              "      <td>2019.0</td>\n",
              "      <td>1.930185e+09</td>\n",
              "      <td>2019-11-22</td>\n",
              "      <td>20191122</td>\n",
              "      <td>2019-11-22</td>\n",
              "      <td>2019-12-07</td>\n",
              "      <td>USD</td>\n",
              "      <td>RV</td>\n",
              "      <td>1.0</td>\n",
              "      <td>NaN</td>\n",
              "      <td>23362.84</td>\n",
              "      <td>2019-11-22</td>\n",
              "      <td>NAH4</td>\n",
              "      <td>1.930185e+09</td>\n",
              "      <td>0</td>\n",
              "    </tr>\n",
              "    <tr>\n",
              "      <th>1</th>\n",
              "      <td>U001</td>\n",
              "      <td>0200744019</td>\n",
              "      <td>TARG foundation</td>\n",
              "      <td>2020-01-29</td>\n",
              "      <td>2020.0</td>\n",
              "      <td>1.930392e+09</td>\n",
              "      <td>2020-01-14</td>\n",
              "      <td>20200113</td>\n",
              "      <td>2020-01-14</td>\n",
              "      <td>2020-01-29</td>\n",
              "      <td>USD</td>\n",
              "      <td>RV</td>\n",
              "      <td>1.0</td>\n",
              "      <td>NaN</td>\n",
              "      <td>3977.47</td>\n",
              "      <td>2020-01-14</td>\n",
              "      <td>NAA8</td>\n",
              "      <td>1.930392e+09</td>\n",
              "      <td>0</td>\n",
              "    </tr>\n",
              "    <tr>\n",
              "      <th>2</th>\n",
              "      <td>U001</td>\n",
              "      <td>0200704045</td>\n",
              "      <td>RA associates</td>\n",
              "      <td>2019-07-05</td>\n",
              "      <td>2019.0</td>\n",
              "      <td>1.929518e+09</td>\n",
              "      <td>2019-06-20</td>\n",
              "      <td>20190620</td>\n",
              "      <td>2019-06-20</td>\n",
              "      <td>2019-07-05</td>\n",
              "      <td>USD</td>\n",
              "      <td>RV</td>\n",
              "      <td>1.0</td>\n",
              "      <td>NaN</td>\n",
              "      <td>26230.18</td>\n",
              "      <td>2019-06-20</td>\n",
              "      <td>NAA8</td>\n",
              "      <td>1.929518e+09</td>\n",
              "      <td>0</td>\n",
              "    </tr>\n",
              "    <tr>\n",
              "      <th>3</th>\n",
              "      <td>U001</td>\n",
              "      <td>0200793568</td>\n",
              "      <td>SUPE associates</td>\n",
              "      <td>2019-05-20</td>\n",
              "      <td>2019.0</td>\n",
              "      <td>1.929252e+09</td>\n",
              "      <td>2019-05-03</td>\n",
              "      <td>20190503</td>\n",
              "      <td>2019-05-03</td>\n",
              "      <td>2019-05-18</td>\n",
              "      <td>USD</td>\n",
              "      <td>RV</td>\n",
              "      <td>1.0</td>\n",
              "      <td>NaN</td>\n",
              "      <td>81606.25</td>\n",
              "      <td>2019-05-03</td>\n",
              "      <td>NAA8</td>\n",
              "      <td>1.929252e+09</td>\n",
              "      <td>0</td>\n",
              "    </tr>\n",
              "    <tr>\n",
              "      <th>4</th>\n",
              "      <td>U001</td>\n",
              "      <td>200761734</td>\n",
              "      <td>H E BUT corporation</td>\n",
              "      <td>2019-02-05</td>\n",
              "      <td>2019.0</td>\n",
              "      <td>1.928652e+09</td>\n",
              "      <td>2019-01-22</td>\n",
              "      <td>20190119</td>\n",
              "      <td>2019-01-22</td>\n",
              "      <td>2019-02-06</td>\n",
              "      <td>USD</td>\n",
              "      <td>RV</td>\n",
              "      <td>1.0</td>\n",
              "      <td>NaN</td>\n",
              "      <td>15293.58</td>\n",
              "      <td>2019-01-22</td>\n",
              "      <td>NAA8</td>\n",
              "      <td>1.928652e+09</td>\n",
              "      <td>0</td>\n",
              "    </tr>\n",
              "    <tr>\n",
              "      <th>...</th>\n",
              "      <td>...</td>\n",
              "      <td>...</td>\n",
              "      <td>...</td>\n",
              "      <td>...</td>\n",
              "      <td>...</td>\n",
              "      <td>...</td>\n",
              "      <td>...</td>\n",
              "      <td>...</td>\n",
              "      <td>...</td>\n",
              "      <td>...</td>\n",
              "      <td>...</td>\n",
              "      <td>...</td>\n",
              "      <td>...</td>\n",
              "      <td>...</td>\n",
              "      <td>...</td>\n",
              "      <td>...</td>\n",
              "      <td>...</td>\n",
              "      <td>...</td>\n",
              "      <td>...</td>\n",
              "    </tr>\n",
              "    <tr>\n",
              "      <th>45858</th>\n",
              "      <td>U001</td>\n",
              "      <td>0200714710</td>\n",
              "      <td>SYSCO  us</td>\n",
              "      <td>2019-12-19</td>\n",
              "      <td>2019.0</td>\n",
              "      <td>1.930210e+09</td>\n",
              "      <td>2019-12-02</td>\n",
              "      <td>20191202</td>\n",
              "      <td>2019-12-02</td>\n",
              "      <td>2019-12-17</td>\n",
              "      <td>USD</td>\n",
              "      <td>RV</td>\n",
              "      <td>1.0</td>\n",
              "      <td>NaN</td>\n",
              "      <td>45078.76</td>\n",
              "      <td>2019-12-02</td>\n",
              "      <td>NAA8</td>\n",
              "      <td>1.930210e+09</td>\n",
              "      <td>0</td>\n",
              "    </tr>\n",
              "    <tr>\n",
              "      <th>45859</th>\n",
              "      <td>U001</td>\n",
              "      <td>0200126819</td>\n",
              "      <td>MCLANE co</td>\n",
              "      <td>2019-06-10</td>\n",
              "      <td>2019.0</td>\n",
              "      <td>1.929375e+09</td>\n",
              "      <td>2019-05-27</td>\n",
              "      <td>20190524</td>\n",
              "      <td>2019-05-27</td>\n",
              "      <td>2019-06-11</td>\n",
              "      <td>USD</td>\n",
              "      <td>RV</td>\n",
              "      <td>1.0</td>\n",
              "      <td>NaN</td>\n",
              "      <td>22272.33</td>\n",
              "      <td>2019-05-27</td>\n",
              "      <td>NAA8</td>\n",
              "      <td>1.929375e+09</td>\n",
              "      <td>0</td>\n",
              "    </tr>\n",
              "    <tr>\n",
              "      <th>45860</th>\n",
              "      <td>U001</td>\n",
              "      <td>0200020431</td>\n",
              "      <td>DEC foundation</td>\n",
              "      <td>2019-12-30</td>\n",
              "      <td>2019.0</td>\n",
              "      <td>1.930303e+09</td>\n",
              "      <td>2019-12-20</td>\n",
              "      <td>20191220</td>\n",
              "      <td>2019-12-20</td>\n",
              "      <td>2020-01-08</td>\n",
              "      <td>USD</td>\n",
              "      <td>RV</td>\n",
              "      <td>1.0</td>\n",
              "      <td>NaN</td>\n",
              "      <td>295.16</td>\n",
              "      <td>2019-12-16</td>\n",
              "      <td>NAM4</td>\n",
              "      <td>1.930303e+09</td>\n",
              "      <td>0</td>\n",
              "    </tr>\n",
              "    <tr>\n",
              "      <th>45861</th>\n",
              "      <td>U001</td>\n",
              "      <td>0200661137</td>\n",
              "      <td>AFFI llc</td>\n",
              "      <td>2019-01-28</td>\n",
              "      <td>2019.0</td>\n",
              "      <td>1.928594e+09</td>\n",
              "      <td>2019-01-08</td>\n",
              "      <td>20190109</td>\n",
              "      <td>2019-01-08</td>\n",
              "      <td>2019-01-28</td>\n",
              "      <td>USD</td>\n",
              "      <td>RV</td>\n",
              "      <td>1.0</td>\n",
              "      <td>NaN</td>\n",
              "      <td>46389.30</td>\n",
              "      <td>2019-01-08</td>\n",
              "      <td>NAD1</td>\n",
              "      <td>1.928594e+09</td>\n",
              "      <td>0</td>\n",
              "    </tr>\n",
              "    <tr>\n",
              "      <th>45862</th>\n",
              "      <td>U001</td>\n",
              "      <td>0200704045</td>\n",
              "      <td>RA trust</td>\n",
              "      <td>2020-01-21</td>\n",
              "      <td>2020.0</td>\n",
              "      <td>1.930353e+09</td>\n",
              "      <td>2020-01-04</td>\n",
              "      <td>20200104</td>\n",
              "      <td>2020-01-04</td>\n",
              "      <td>2020-01-19</td>\n",
              "      <td>USD</td>\n",
              "      <td>RV</td>\n",
              "      <td>1.0</td>\n",
              "      <td>NaN</td>\n",
              "      <td>70578.07</td>\n",
              "      <td>2020-01-04</td>\n",
              "      <td>NAA8</td>\n",
              "      <td>1.930353e+09</td>\n",
              "      <td>0</td>\n",
              "    </tr>\n",
              "  </tbody>\n",
              "</table>\n",
              "<p>45863 rows × 19 columns</p>\n",
              "</div>"
            ],
            "text/plain": [
              "      business_code cust_number  ...    invoice_id isOpen\n",
              "0              U001  0200769623  ...  1.930185e+09      0\n",
              "1              U001  0200744019  ...  1.930392e+09      0\n",
              "2              U001  0200704045  ...  1.929518e+09      0\n",
              "3              U001  0200793568  ...  1.929252e+09      0\n",
              "4              U001   200761734  ...  1.928652e+09      0\n",
              "...             ...         ...  ...           ...    ...\n",
              "45858          U001  0200714710  ...  1.930210e+09      0\n",
              "45859          U001  0200126819  ...  1.929375e+09      0\n",
              "45860          U001  0200020431  ...  1.930303e+09      0\n",
              "45861          U001  0200661137  ...  1.928594e+09      0\n",
              "45862          U001  0200704045  ...  1.930353e+09      0\n",
              "\n",
              "[45863 rows x 19 columns]"
            ]
          },
          "metadata": {
            "tags": []
          },
          "execution_count": 13
        }
      ]
    },
    {
      "cell_type": "code",
      "metadata": {
        "id": "I-iF3PmyjKrO"
      },
      "source": [
        "#removing faulty rows\n",
        "invoice = invoice[invoice['baseline_create_date'] <= invoice['clear_date']] \n",
        "invoice = invoice[invoice['due_in_date'] >= invoice['baseline_create_date']]"
      ],
      "execution_count": 14,
      "outputs": []
    },
    {
      "cell_type": "code",
      "metadata": {
        "id": "SdVHsTOujKrP"
      },
      "source": [
        "#creating neccessary new features\n",
        "def new_features(data):\n",
        "    data['month_clear'] = data['clear_date'].dt.month\n",
        "    data['weekday_clear'] = data['clear_date'].dt.dayofweek\n",
        "    data['delay']=(data['clear_date']-data['due_in_date']).dt.days"
      ],
      "execution_count": 15,
      "outputs": []
    },
    {
      "cell_type": "code",
      "metadata": {
        "id": "3IkG0MPMjKrP"
      },
      "source": [
        "#sorting on basis of document create date\n",
        "invoice = invoice.sort_values(by='document_create_date.1')\n",
        "invoice = invoice.reset_index()"
      ],
      "execution_count": 16,
      "outputs": []
    },
    {
      "cell_type": "code",
      "metadata": {
        "id": "hykHezhxjKrQ"
      },
      "source": [
        "new_features(invoice)"
      ],
      "execution_count": 17,
      "outputs": []
    },
    {
      "cell_type": "code",
      "metadata": {
        "colab": {
          "base_uri": "https://localhost:8080/",
          "height": 297
        },
        "id": "uFJmcfJDM33T",
        "outputId": "dfd9b20f-37af-42e6-93ce-aa162e574cfd"
      },
      "source": [
        "invoice.plot(kind='scatter',x='total_open_amount',y='delay')"
      ],
      "execution_count": 18,
      "outputs": [
        {
          "output_type": "execute_result",
          "data": {
            "text/plain": [
              "<matplotlib.axes._subplots.AxesSubplot at 0x7f8276d1c1d0>"
            ]
          },
          "metadata": {
            "tags": []
          },
          "execution_count": 18
        },
        {
          "output_type": "display_data",
          "data": {
            "image/png": "[encoded data removed]",
            "text/plain": [
              "<Figure size 432x288 with 1 Axes>"
            ]
          },
          "metadata": {
            "tags": [],
            "needs_background": "light"
          }
        }
      ]
    },
    {
      "cell_type": "markdown",
      "metadata": {
        "id": "IHIzlxbjM-O4"
      },
      "source": [
        "As the amount of tgransaction increase the payment is done without any major delay"
      ]
    },
    {
      "cell_type": "code",
      "metadata": {
        "colab": {
          "base_uri": "https://localhost:8080/",
          "height": 608
        },
        "id": "JIButjdDjKrR",
        "outputId": "fd0e0802-aaf7-46c3-d2db-27d2449ed8d0"
      },
      "source": [
        "#checking correlation of features\n",
        "corr=invoice.corr()\n",
        "plt.figure(figsize=(14,8))\n",
        "sns.heatmap(corr,annot=True)"
      ],
      "execution_count": 19,
      "outputs": [
        {
          "output_type": "execute_result",
          "data": {
            "text/plain": [
              "<matplotlib.axes._subplots.AxesSubplot at 0x7f8276cd7748>"
            ]
          },
          "metadata": {
            "tags": []
          },
          "execution_count": 19
        },
        {
          "output_type": "display_data",
          "data": {
            "image/png": "[encoded data removed]",
            "text/plain": [
              "<Figure size 1008x576 with 2 Axes>"
            ]
          },
          "metadata": {
            "tags": [],
            "needs_background": "light"
          }
        }
      ]
    },
    {
      "cell_type": "code",
      "metadata": {
        "id": "JhdJZlb-jKrT"
      },
      "source": [
        "#removing inneccessary features and highly \n",
        "invoice = invoice.drop(['posting_date','invoice_currency', 'document type','clear_date','business_code', 'cust_number', 'name_customer', 'doc_id', 'document_create_date',  'document_create_date.1', 'due_in_date', 'posting_id','area_business', 'baseline_create_date','cust_payment_terms','invoice_id','isOpen'], axis=1)\n"
      ],
      "execution_count": 20,
      "outputs": []
    },
    {
      "cell_type": "code",
      "metadata": {
        "id": "njD8-RDwjKrU"
      },
      "source": [
        "#removing inneccessary features and highly \n",
        "df_pred = df_pred.drop(['posting_date','invoice_currency', 'document type','clear_date','business_code', 'cust_number', 'name_customer', 'doc_id', 'document_create_date',  'document_create_date.1', 'due_in_date', 'posting_id','area_business', 'baseline_create_date','cust_payment_terms','invoice_id','isOpen'], axis=1)\n"
      ],
      "execution_count": 21,
      "outputs": []
    },
    {
      "cell_type": "code",
      "metadata": {
        "colab": {
          "base_uri": "https://localhost:8080/",
          "height": 404
        },
        "id": "YwVBkGcPjKrU",
        "outputId": "c28bface-2dee-4242-c813-27a4b64741d6"
      },
      "source": [
        "invoice"
      ],
      "execution_count": 22,
      "outputs": [
        {
          "output_type": "execute_result",
          "data": {
            "text/html": [
              "<div>\n",
              "<style scoped>\n",
              "    .dataframe tbody tr th:only-of-type {\n",
              "        vertical-align: middle;\n",
              "    }\n",
              "\n",
              "    .dataframe tbody tr th {\n",
              "        vertical-align: top;\n",
              "    }\n",
              "\n",
              "    .dataframe thead th {\n",
              "        text-align: right;\n",
              "    }\n",
              "</style>\n",
              "<table border=\"1\" class=\"dataframe\">\n",
              "  <thead>\n",
              "    <tr style=\"text-align: right;\">\n",
              "      <th></th>\n",
              "      <th>index</th>\n",
              "      <th>buisness_year</th>\n",
              "      <th>total_open_amount</th>\n",
              "      <th>month_clear</th>\n",
              "      <th>weekday_clear</th>\n",
              "      <th>delay</th>\n",
              "    </tr>\n",
              "  </thead>\n",
              "  <tbody>\n",
              "    <tr>\n",
              "      <th>0</th>\n",
              "      <td>7928</td>\n",
              "      <td>2019.0</td>\n",
              "      <td>878.40</td>\n",
              "      <td>5</td>\n",
              "      <td>4</td>\n",
              "      <td>209</td>\n",
              "    </tr>\n",
              "    <tr>\n",
              "      <th>1</th>\n",
              "      <td>3429</td>\n",
              "      <td>2019.0</td>\n",
              "      <td>3239.88</td>\n",
              "      <td>1</td>\n",
              "      <td>1</td>\n",
              "      <td>1</td>\n",
              "    </tr>\n",
              "    <tr>\n",
              "      <th>2</th>\n",
              "      <td>13130</td>\n",
              "      <td>2019.0</td>\n",
              "      <td>20468.39</td>\n",
              "      <td>1</td>\n",
              "      <td>1</td>\n",
              "      <td>1</td>\n",
              "    </tr>\n",
              "    <tr>\n",
              "      <th>3</th>\n",
              "      <td>37840</td>\n",
              "      <td>2019.0</td>\n",
              "      <td>43208.29</td>\n",
              "      <td>1</td>\n",
              "      <td>3</td>\n",
              "      <td>-4</td>\n",
              "    </tr>\n",
              "    <tr>\n",
              "      <th>4</th>\n",
              "      <td>31570</td>\n",
              "      <td>2019.0</td>\n",
              "      <td>69688.57</td>\n",
              "      <td>1</td>\n",
              "      <td>2</td>\n",
              "      <td>-5</td>\n",
              "    </tr>\n",
              "    <tr>\n",
              "      <th>...</th>\n",
              "      <td>...</td>\n",
              "      <td>...</td>\n",
              "      <td>...</td>\n",
              "      <td>...</td>\n",
              "      <td>...</td>\n",
              "      <td>...</td>\n",
              "    </tr>\n",
              "    <tr>\n",
              "      <th>45854</th>\n",
              "      <td>28035</td>\n",
              "      <td>2020.0</td>\n",
              "      <td>47259.54</td>\n",
              "      <td>3</td>\n",
              "      <td>2</td>\n",
              "      <td>-52</td>\n",
              "    </tr>\n",
              "    <tr>\n",
              "      <th>45855</th>\n",
              "      <td>15376</td>\n",
              "      <td>2020.0</td>\n",
              "      <td>10990.81</td>\n",
              "      <td>3</td>\n",
              "      <td>3</td>\n",
              "      <td>-1</td>\n",
              "    </tr>\n",
              "    <tr>\n",
              "      <th>45856</th>\n",
              "      <td>458</td>\n",
              "      <td>2020.0</td>\n",
              "      <td>8793.09</td>\n",
              "      <td>3</td>\n",
              "      <td>3</td>\n",
              "      <td>-1</td>\n",
              "    </tr>\n",
              "    <tr>\n",
              "      <th>45857</th>\n",
              "      <td>23570</td>\n",
              "      <td>2020.0</td>\n",
              "      <td>53264.58</td>\n",
              "      <td>3</td>\n",
              "      <td>2</td>\n",
              "      <td>5</td>\n",
              "    </tr>\n",
              "    <tr>\n",
              "      <th>45858</th>\n",
              "      <td>27898</td>\n",
              "      <td>2020.0</td>\n",
              "      <td>19447.11</td>\n",
              "      <td>3</td>\n",
              "      <td>3</td>\n",
              "      <td>-1</td>\n",
              "    </tr>\n",
              "  </tbody>\n",
              "</table>\n",
              "<p>45859 rows × 6 columns</p>\n",
              "</div>"
            ],
            "text/plain": [
              "       index  buisness_year  ...  weekday_clear  delay\n",
              "0       7928         2019.0  ...              4    209\n",
              "1       3429         2019.0  ...              1      1\n",
              "2      13130         2019.0  ...              1      1\n",
              "3      37840         2019.0  ...              3     -4\n",
              "4      31570         2019.0  ...              2     -5\n",
              "...      ...            ...  ...            ...    ...\n",
              "45854  28035         2020.0  ...              2    -52\n",
              "45855  15376         2020.0  ...              3     -1\n",
              "45856    458         2020.0  ...              3     -1\n",
              "45857  23570         2020.0  ...              2      5\n",
              "45858  27898         2020.0  ...              3     -1\n",
              "\n",
              "[45859 rows x 6 columns]"
            ]
          },
          "metadata": {
            "tags": []
          },
          "execution_count": 22
        }
      ]
    },
    {
      "cell_type": "code",
      "metadata": {
        "colab": {
          "base_uri": "https://localhost:8080/",
          "height": 505
        },
        "id": "i2dZ3WrLjKrV",
        "outputId": "a143fc11-8c85-439f-db84-627b1388e28a"
      },
      "source": [
        "#checking correlation of features\n",
        "corr=invoice.corr()\n",
        "plt.figure(figsize=(14,8))\n",
        "sns.heatmap(corr,annot=True)"
      ],
      "execution_count": 23,
      "outputs": [
        {
          "output_type": "execute_result",
          "data": {
            "text/plain": [
              "<matplotlib.axes._subplots.AxesSubplot at 0x7f8277570c50>"
            ]
          },
          "metadata": {
            "tags": []
          },
          "execution_count": 23
        },
        {
          "output_type": "display_data",
          "data": {
            "image/png": "[encoded data removed]",
            "text/plain": [
              "<Figure size 1008x576 with 2 Axes>"
            ]
          },
          "metadata": {
            "tags": [],
            "needs_background": "light"
          }
        }
      ]
    },
    {
      "cell_type": "code",
      "metadata": {
        "id": "hI_vsfoojKrV"
      },
      "source": [
        "#no high correlated features"
      ],
      "execution_count": 24,
      "outputs": []
    },
    {
      "cell_type": "code",
      "metadata": {
        "id": "75wMzTGDjKrW"
      },
      "source": [
        "#creating validation splits\n",
        "train=invoice.iloc[:32102,:]\n",
        "val=invoice.iloc[32103:,:]"
      ],
      "execution_count": 25,
      "outputs": []
    },
    {
      "cell_type": "code",
      "metadata": {
        "id": "tu-H9uYKjKrW"
      },
      "source": [
        "val1=val.iloc[:6880,:]\n",
        "val2=val.iloc[6880:,:]"
      ],
      "execution_count": 26,
      "outputs": []
    },
    {
      "cell_type": "code",
      "metadata": {
        "id": "bymo6IMDjKrX"
      },
      "source": [
        "#separating the label column\n",
        "y_train = train['delay']\n",
        "x_train = train.drop(['delay'], axis=1)\n",
        "x_train = x_train.drop(['index'], axis=1)"
      ],
      "execution_count": 27,
      "outputs": []
    },
    {
      "cell_type": "code",
      "metadata": {
        "colab": {
          "base_uri": "https://localhost:8080/"
        },
        "id": "xpW9E9O1jKrY",
        "outputId": "af7ee872-8e43-4a7c-cda8-6a1f74ffc2c5"
      },
      "source": [
        "from sklearn.ensemble import RandomForestRegressor\n",
        "\n",
        "forest_reg = RandomForestRegressor(n_estimators=100, random_state=42)\n",
        "forest_reg.fit(x_train, y_train)"
      ],
      "execution_count": 28,
      "outputs": [
        {
          "output_type": "execute_result",
          "data": {
            "text/plain": [
              "RandomForestRegressor(bootstrap=True, ccp_alpha=0.0, criterion='mse',\n",
              "                      max_depth=None, max_features='auto', max_leaf_nodes=None,\n",
              "                      max_samples=None, min_impurity_decrease=0.0,\n",
              "                      min_impurity_split=None, min_samples_leaf=1,\n",
              "                      min_samples_split=2, min_weight_fraction_leaf=0.0,\n",
              "                      n_estimators=100, n_jobs=None, oob_score=False,\n",
              "                      random_state=42, verbose=0, warm_start=False)"
            ]
          },
          "metadata": {
            "tags": []
          },
          "execution_count": 28
        }
      ]
    },
    {
      "cell_type": "code",
      "metadata": {
        "colab": {
          "base_uri": "https://localhost:8080/"
        },
        "id": "1C1GiF4gjKrY",
        "outputId": "f2768036-cc2e-4bc6-8307-b9157a4cd62d"
      },
      "source": [
        "from sklearn.metrics import mean_squared_error\n",
        "forest_pred = forest_reg.predict(x_train)\n",
        "forest_mse = mean_squared_error(y_train, forest_pred)\n",
        "forest_rmse = np.sqrt(forest_mse)\n",
        "forest_rmse"
      ],
      "execution_count": 29,
      "outputs": [
        {
          "output_type": "execute_result",
          "data": {
            "text/plain": [
              "4.715244098805301"
            ]
          },
          "metadata": {
            "tags": []
          },
          "execution_count": 29
        }
      ]
    },
    {
      "cell_type": "markdown",
      "metadata": {
        "id": "0KEulVVMmdRI"
      },
      "source": [
        "Fine Tuning the model (Hyperparameter tuning)"
      ]
    },
    {
      "cell_type": "code",
      "metadata": {
        "id": "qM_D7A4rmqyU"
      },
      "source": [
        "#using validation set1 for hyperparameter tuning\n",
        "y_train_ht = val1['delay']\n",
        "x_train_ht = val1.drop(['delay'], axis=1)"
      ],
      "execution_count": 30,
      "outputs": []
    },
    {
      "cell_type": "code",
      "metadata": {
        "colab": {
          "base_uri": "https://localhost:8080/"
        },
        "id": "Gv4UdyS-lWX8",
        "outputId": "c542da5f-e578-4329-a938-97ef7417d6fe"
      },
      "source": [
        "from sklearn.model_selection import GridSearchCV\n",
        "\n",
        "param_grid = [\n",
        "    # try 12 (3×4) combinations of hyperparameters\n",
        "    {'n_estimators': [10, 30, 50], 'max_features': [2, 4]},\n",
        "    # then try 6 (2×3) combinations with bootstrap set as False\n",
        "    {'bootstrap': [False], 'n_estimators': [3, 10, 30, 50], 'max_features': [2, 3, 4]},\n",
        "  ]\n",
        "\n",
        "forest_reg = RandomForestRegressor(random_state=42)\n",
        "# train across 5 folds, that's a total of (12+6)*5=90 rounds of training \n",
        "grid_search = GridSearchCV(forest_reg, param_grid, cv=5,\n",
        "                           scoring='neg_mean_squared_error',\n",
        "                           return_train_score=True)\n",
        "grid_search.fit(x_train_ht, y_train_ht)"
      ],
      "execution_count": 31,
      "outputs": [
        {
          "output_type": "execute_result",
          "data": {
            "text/plain": [
              "GridSearchCV(cv=5, error_score=nan,\n",
              "             estimator=RandomForestRegressor(bootstrap=True, ccp_alpha=0.0,\n",
              "                                             criterion='mse', max_depth=None,\n",
              "                                             max_features='auto',\n",
              "                                             max_leaf_nodes=None,\n",
              "                                             max_samples=None,\n",
              "                                             min_impurity_decrease=0.0,\n",
              "                                             min_impurity_split=None,\n",
              "                                             min_samples_leaf=1,\n",
              "                                             min_samples_split=2,\n",
              "                                             min_weight_fraction_leaf=0.0,\n",
              "                                             n_estimators=100, n_jobs=None,\n",
              "                                             oob_score=False, random_state=42,\n",
              "                                             verbose=0, warm_start=False),\n",
              "             iid='deprecated', n_jobs=None,\n",
              "             param_grid=[{'max_features': [2, 4], 'n_estimators': [10, 30, 50]},\n",
              "                         {'bootstrap': [False], 'max_features': [2, 3, 4],\n",
              "                          'n_estimators': [3, 10, 30, 50]}],\n",
              "             pre_dispatch='2*n_jobs', refit=True, return_train_score=True,\n",
              "             scoring='neg_mean_squared_error', verbose=0)"
            ]
          },
          "metadata": {
            "tags": []
          },
          "execution_count": 31
        }
      ]
    },
    {
      "cell_type": "code",
      "metadata": {
        "colab": {
          "base_uri": "https://localhost:8080/"
        },
        "id": "wgNdIJp6nXDp",
        "outputId": "48c9a26c-a224-4b24-c25f-cac8808454d2"
      },
      "source": [
        "grid_search.best_params_"
      ],
      "execution_count": 32,
      "outputs": [
        {
          "output_type": "execute_result",
          "data": {
            "text/plain": [
              "{'max_features': 2, 'n_estimators': 50}"
            ]
          },
          "metadata": {
            "tags": []
          },
          "execution_count": 32
        }
      ]
    },
    {
      "cell_type": "code",
      "metadata": {
        "colab": {
          "base_uri": "https://localhost:8080/"
        },
        "id": "1Cs4u_bjo8DP",
        "outputId": "c23425fc-a926-4167-a131-8f25ae8641e1"
      },
      "source": [
        "grid_search.best_estimator_"
      ],
      "execution_count": 33,
      "outputs": [
        {
          "output_type": "execute_result",
          "data": {
            "text/plain": [
              "RandomForestRegressor(bootstrap=True, ccp_alpha=0.0, criterion='mse',\n",
              "                      max_depth=None, max_features=2, max_leaf_nodes=None,\n",
              "                      max_samples=None, min_impurity_decrease=0.0,\n",
              "                      min_impurity_split=None, min_samples_leaf=1,\n",
              "                      min_samples_split=2, min_weight_fraction_leaf=0.0,\n",
              "                      n_estimators=50, n_jobs=None, oob_score=False,\n",
              "                      random_state=42, verbose=0, warm_start=False)"
            ]
          },
          "metadata": {
            "tags": []
          },
          "execution_count": 33
        }
      ]
    },
    {
      "cell_type": "code",
      "metadata": {
        "colab": {
          "base_uri": "https://localhost:8080/"
        },
        "id": "CM1oM3i3pD6s",
        "outputId": "2b96e371-6fd2-4d4f-91ec-8948e8e93978"
      },
      "source": [
        "cvres = grid_search.cv_results_\n",
        "for mean_score, params in zip(cvres[\"mean_test_score\"], cvres[\"params\"]):\n",
        "    print(np.sqrt(-mean_score), params)"
      ],
      "execution_count": 34,
      "outputs": [
        {
          "output_type": "stream",
          "text": [
            "9.303961943647298 {'max_features': 2, 'n_estimators': 10}\n",
            "8.54864464452687 {'max_features': 2, 'n_estimators': 30}\n",
            "8.392099132448164 {'max_features': 2, 'n_estimators': 50}\n",
            "9.01077762305191 {'max_features': 4, 'n_estimators': 10}\n",
            "8.961260906168494 {'max_features': 4, 'n_estimators': 30}\n",
            "8.871667582685593 {'max_features': 4, 'n_estimators': 50}\n",
            "10.401389572492691 {'bootstrap': False, 'max_features': 2, 'n_estimators': 3}\n",
            "9.926776465115557 {'bootstrap': False, 'max_features': 2, 'n_estimators': 10}\n",
            "9.854116102759631 {'bootstrap': False, 'max_features': 2, 'n_estimators': 30}\n",
            "9.956999180195739 {'bootstrap': False, 'max_features': 2, 'n_estimators': 50}\n",
            "13.309784194236872 {'bootstrap': False, 'max_features': 3, 'n_estimators': 3}\n",
            "11.87745537650764 {'bootstrap': False, 'max_features': 3, 'n_estimators': 10}\n",
            "10.968014808396699 {'bootstrap': False, 'max_features': 3, 'n_estimators': 30}\n",
            "11.223724276188674 {'bootstrap': False, 'max_features': 3, 'n_estimators': 50}\n",
            "12.18619609734709 {'bootstrap': False, 'max_features': 4, 'n_estimators': 3}\n",
            "13.126366706251076 {'bootstrap': False, 'max_features': 4, 'n_estimators': 10}\n",
            "12.216846682420021 {'bootstrap': False, 'max_features': 4, 'n_estimators': 30}\n",
            "11.896976570189079 {'bootstrap': False, 'max_features': 4, 'n_estimators': 50}\n"
          ],
          "name": "stdout"
        }
      ]
    },
    {
      "cell_type": "code",
      "metadata": {
        "colab": {
          "base_uri": "https://localhost:8080/",
          "height": 1000
        },
        "id": "sz2z_23RpJdE",
        "outputId": "d09cb389-d11d-4642-b3f1-a0cfe7448507"
      },
      "source": [
        "pd.DataFrame(grid_search.cv_results_)"
      ],
      "execution_count": 35,
      "outputs": [
        {
          "output_type": "execute_result",
          "data": {
            "text/html": [
              "<div>\n",
              "<style scoped>\n",
              "    .dataframe tbody tr th:only-of-type {\n",
              "        vertical-align: middle;\n",
              "    }\n",
              "\n",
              "    .dataframe tbody tr th {\n",
              "        vertical-align: top;\n",
              "    }\n",
              "\n",
              "    .dataframe thead th {\n",
              "        text-align: right;\n",
              "    }\n",
              "</style>\n",
              "<table border=\"1\" class=\"dataframe\">\n",
              "  <thead>\n",
              "    <tr style=\"text-align: right;\">\n",
              "      <th></th>\n",
              "      <th>mean_fit_time</th>\n",
              "      <th>std_fit_time</th>\n",
              "      <th>mean_score_time</th>\n",
              "      <th>std_score_time</th>\n",
              "      <th>param_max_features</th>\n",
              "      <th>param_n_estimators</th>\n",
              "      <th>param_bootstrap</th>\n",
              "      <th>params</th>\n",
              "      <th>split0_test_score</th>\n",
              "      <th>split1_test_score</th>\n",
              "      <th>split2_test_score</th>\n",
              "      <th>split3_test_score</th>\n",
              "      <th>split4_test_score</th>\n",
              "      <th>mean_test_score</th>\n",
              "      <th>std_test_score</th>\n",
              "      <th>rank_test_score</th>\n",
              "      <th>split0_train_score</th>\n",
              "      <th>split1_train_score</th>\n",
              "      <th>split2_train_score</th>\n",
              "      <th>split3_train_score</th>\n",
              "      <th>split4_train_score</th>\n",
              "      <th>mean_train_score</th>\n",
              "      <th>std_train_score</th>\n",
              "    </tr>\n",
              "  </thead>\n",
              "  <tbody>\n",
              "    <tr>\n",
              "      <th>0</th>\n",
              "      <td>0.083200</td>\n",
              "      <td>0.004841</td>\n",
              "      <td>0.004753</td>\n",
              "      <td>0.000184</td>\n",
              "      <td>2</td>\n",
              "      <td>10</td>\n",
              "      <td>NaN</td>\n",
              "      <td>{'max_features': 2, 'n_estimators': 10}</td>\n",
              "      <td>-186.649455</td>\n",
              "      <td>-63.125094</td>\n",
              "      <td>-73.356642</td>\n",
              "      <td>-52.349273</td>\n",
              "      <td>-57.338074</td>\n",
              "      <td>-86.563708</td>\n",
              "      <td>50.528640</td>\n",
              "      <td>6</td>\n",
              "      <td>-8.800203</td>\n",
              "      <td>-9.411739</td>\n",
              "      <td>-9.074253</td>\n",
              "      <td>-10.072237</td>\n",
              "      <td>-10.624324</td>\n",
              "      <td>-9.596551</td>\n",
              "      <td>0.666890</td>\n",
              "    </tr>\n",
              "    <tr>\n",
              "      <th>1</th>\n",
              "      <td>0.240506</td>\n",
              "      <td>0.007059</td>\n",
              "      <td>0.012229</td>\n",
              "      <td>0.001441</td>\n",
              "      <td>2</td>\n",
              "      <td>30</td>\n",
              "      <td>NaN</td>\n",
              "      <td>{'max_features': 2, 'n_estimators': 30}</td>\n",
              "      <td>-137.014944</td>\n",
              "      <td>-60.650614</td>\n",
              "      <td>-68.864541</td>\n",
              "      <td>-48.030678</td>\n",
              "      <td>-50.835849</td>\n",
              "      <td>-73.079325</td>\n",
              "      <td>32.809168</td>\n",
              "      <td>2</td>\n",
              "      <td>-7.130807</td>\n",
              "      <td>-7.797595</td>\n",
              "      <td>-7.267458</td>\n",
              "      <td>-8.138984</td>\n",
              "      <td>-8.454185</td>\n",
              "      <td>-7.757806</td>\n",
              "      <td>0.503069</td>\n",
              "    </tr>\n",
              "    <tr>\n",
              "      <th>2</th>\n",
              "      <td>0.391697</td>\n",
              "      <td>0.008517</td>\n",
              "      <td>0.018259</td>\n",
              "      <td>0.001712</td>\n",
              "      <td>2</td>\n",
              "      <td>50</td>\n",
              "      <td>NaN</td>\n",
              "      <td>{'max_features': 2, 'n_estimators': 50}</td>\n",
              "      <td>-128.325098</td>\n",
              "      <td>-59.597373</td>\n",
              "      <td>-67.853938</td>\n",
              "      <td>-47.050617</td>\n",
              "      <td>-49.309614</td>\n",
              "      <td>-70.427328</td>\n",
              "      <td>29.894784</td>\n",
              "      <td>1</td>\n",
              "      <td>-6.724818</td>\n",
              "      <td>-7.496336</td>\n",
              "      <td>-7.050181</td>\n",
              "      <td>-7.877709</td>\n",
              "      <td>-8.253425</td>\n",
              "      <td>-7.480494</td>\n",
              "      <td>0.549849</td>\n",
              "    </tr>\n",
              "    <tr>\n",
              "      <th>3</th>\n",
              "      <td>0.121822</td>\n",
              "      <td>0.003134</td>\n",
              "      <td>0.004723</td>\n",
              "      <td>0.000470</td>\n",
              "      <td>4</td>\n",
              "      <td>10</td>\n",
              "      <td>NaN</td>\n",
              "      <td>{'max_features': 4, 'n_estimators': 10}</td>\n",
              "      <td>-153.793169</td>\n",
              "      <td>-62.929578</td>\n",
              "      <td>-73.860821</td>\n",
              "      <td>-52.357464</td>\n",
              "      <td>-63.029535</td>\n",
              "      <td>-81.194113</td>\n",
              "      <td>36.931010</td>\n",
              "      <td>5</td>\n",
              "      <td>-9.051007</td>\n",
              "      <td>-9.500002</td>\n",
              "      <td>-9.159408</td>\n",
              "      <td>-9.982842</td>\n",
              "      <td>-11.165710</td>\n",
              "      <td>-9.771794</td>\n",
              "      <td>0.768891</td>\n",
              "    </tr>\n",
              "    <tr>\n",
              "      <th>4</th>\n",
              "      <td>0.349243</td>\n",
              "      <td>0.006268</td>\n",
              "      <td>0.012409</td>\n",
              "      <td>0.001780</td>\n",
              "      <td>4</td>\n",
              "      <td>30</td>\n",
              "      <td>NaN</td>\n",
              "      <td>{'max_features': 4, 'n_estimators': 30}</td>\n",
              "      <td>-169.747597</td>\n",
              "      <td>-61.537473</td>\n",
              "      <td>-70.114359</td>\n",
              "      <td>-47.479427</td>\n",
              "      <td>-52.642129</td>\n",
              "      <td>-80.304197</td>\n",
              "      <td>45.384579</td>\n",
              "      <td>4</td>\n",
              "      <td>-7.338560</td>\n",
              "      <td>-7.916790</td>\n",
              "      <td>-7.318876</td>\n",
              "      <td>-8.259468</td>\n",
              "      <td>-8.725839</td>\n",
              "      <td>-7.911907</td>\n",
              "      <td>0.541058</td>\n",
              "    </tr>\n",
              "    <tr>\n",
              "      <th>5</th>\n",
              "      <td>0.580095</td>\n",
              "      <td>0.016740</td>\n",
              "      <td>0.018290</td>\n",
              "      <td>0.001527</td>\n",
              "      <td>4</td>\n",
              "      <td>50</td>\n",
              "      <td>NaN</td>\n",
              "      <td>{'max_features': 4, 'n_estimators': 50}</td>\n",
              "      <td>-165.395377</td>\n",
              "      <td>-60.264119</td>\n",
              "      <td>-69.180600</td>\n",
              "      <td>-47.354382</td>\n",
              "      <td>-51.337951</td>\n",
              "      <td>-78.706486</td>\n",
              "      <td>43.995042</td>\n",
              "      <td>3</td>\n",
              "      <td>-6.890297</td>\n",
              "      <td>-7.454763</td>\n",
              "      <td>-7.078587</td>\n",
              "      <td>-8.062857</td>\n",
              "      <td>-8.421779</td>\n",
              "      <td>-7.581656</td>\n",
              "      <td>0.580434</td>\n",
              "    </tr>\n",
              "    <tr>\n",
              "      <th>6</th>\n",
              "      <td>0.037034</td>\n",
              "      <td>0.001235</td>\n",
              "      <td>0.002335</td>\n",
              "      <td>0.000168</td>\n",
              "      <td>2</td>\n",
              "      <td>3</td>\n",
              "      <td>False</td>\n",
              "      <td>{'bootstrap': False, 'max_features': 2, 'n_est...</td>\n",
              "      <td>-224.719234</td>\n",
              "      <td>-75.392361</td>\n",
              "      <td>-89.096576</td>\n",
              "      <td>-73.077762</td>\n",
              "      <td>-78.658592</td>\n",
              "      <td>-108.188905</td>\n",
              "      <td>58.522269</td>\n",
              "      <td>10</td>\n",
              "      <td>-0.000000</td>\n",
              "      <td>-0.000000</td>\n",
              "      <td>-0.000000</td>\n",
              "      <td>-0.000000</td>\n",
              "      <td>-0.000000</td>\n",
              "      <td>0.000000</td>\n",
              "      <td>0.000000</td>\n",
              "    </tr>\n",
              "    <tr>\n",
              "      <th>7</th>\n",
              "      <td>0.122993</td>\n",
              "      <td>0.005032</td>\n",
              "      <td>0.005139</td>\n",
              "      <td>0.000632</td>\n",
              "      <td>2</td>\n",
              "      <td>10</td>\n",
              "      <td>False</td>\n",
              "      <td>{'bootstrap': False, 'max_features': 2, 'n_est...</td>\n",
              "      <td>-217.349615</td>\n",
              "      <td>-69.383009</td>\n",
              "      <td>-81.119201</td>\n",
              "      <td>-60.824811</td>\n",
              "      <td>-64.027820</td>\n",
              "      <td>-98.540891</td>\n",
              "      <td>59.804456</td>\n",
              "      <td>8</td>\n",
              "      <td>-0.000000</td>\n",
              "      <td>-0.000000</td>\n",
              "      <td>-0.000000</td>\n",
              "      <td>-0.000000</td>\n",
              "      <td>-0.000000</td>\n",
              "      <td>0.000000</td>\n",
              "      <td>0.000000</td>\n",
              "    </tr>\n",
              "    <tr>\n",
              "      <th>8</th>\n",
              "      <td>0.353037</td>\n",
              "      <td>0.003525</td>\n",
              "      <td>0.012782</td>\n",
              "      <td>0.001389</td>\n",
              "      <td>2</td>\n",
              "      <td>30</td>\n",
              "      <td>False</td>\n",
              "      <td>{'bootstrap': False, 'max_features': 2, 'n_est...</td>\n",
              "      <td>-219.476896</td>\n",
              "      <td>-67.937783</td>\n",
              "      <td>-78.669296</td>\n",
              "      <td>-57.064750</td>\n",
              "      <td>-62.369296</td>\n",
              "      <td>-97.103604</td>\n",
              "      <td>61.604015</td>\n",
              "      <td>7</td>\n",
              "      <td>-0.000000</td>\n",
              "      <td>-0.000000</td>\n",
              "      <td>-0.000000</td>\n",
              "      <td>-0.000000</td>\n",
              "      <td>-0.000000</td>\n",
              "      <td>0.000000</td>\n",
              "      <td>0.000000</td>\n",
              "    </tr>\n",
              "    <tr>\n",
              "      <th>9</th>\n",
              "      <td>0.589303</td>\n",
              "      <td>0.012367</td>\n",
              "      <td>0.020704</td>\n",
              "      <td>0.002041</td>\n",
              "      <td>2</td>\n",
              "      <td>50</td>\n",
              "      <td>False</td>\n",
              "      <td>{'bootstrap': False, 'max_features': 2, 'n_est...</td>\n",
              "      <td>-234.049014</td>\n",
              "      <td>-66.929443</td>\n",
              "      <td>-77.994865</td>\n",
              "      <td>-55.035869</td>\n",
              "      <td>-61.699972</td>\n",
              "      <td>-99.141833</td>\n",
              "      <td>67.870478</td>\n",
              "      <td>9</td>\n",
              "      <td>-0.000000</td>\n",
              "      <td>-0.000000</td>\n",
              "      <td>-0.000000</td>\n",
              "      <td>-0.000000</td>\n",
              "      <td>-0.000000</td>\n",
              "      <td>0.000000</td>\n",
              "      <td>0.000000</td>\n",
              "    </tr>\n",
              "    <tr>\n",
              "      <th>10</th>\n",
              "      <td>0.045517</td>\n",
              "      <td>0.001441</td>\n",
              "      <td>0.002384</td>\n",
              "      <td>0.000128</td>\n",
              "      <td>3</td>\n",
              "      <td>3</td>\n",
              "      <td>False</td>\n",
              "      <td>{'bootstrap': False, 'max_features': 3, 'n_est...</td>\n",
              "      <td>-564.182736</td>\n",
              "      <td>-84.660045</td>\n",
              "      <td>-93.820494</td>\n",
              "      <td>-67.588501</td>\n",
              "      <td>-75.500000</td>\n",
              "      <td>-177.150355</td>\n",
              "      <td>193.715762</td>\n",
              "      <td>18</td>\n",
              "      <td>-0.000000</td>\n",
              "      <td>-0.000000</td>\n",
              "      <td>-0.000000</td>\n",
              "      <td>-0.000000</td>\n",
              "      <td>-0.000000</td>\n",
              "      <td>0.000000</td>\n",
              "      <td>0.000000</td>\n",
              "    </tr>\n",
              "    <tr>\n",
              "      <th>11</th>\n",
              "      <td>0.153121</td>\n",
              "      <td>0.003199</td>\n",
              "      <td>0.005324</td>\n",
              "      <td>0.000510</td>\n",
              "      <td>3</td>\n",
              "      <td>10</td>\n",
              "      <td>False</td>\n",
              "      <td>{'bootstrap': False, 'max_features': 3, 'n_est...</td>\n",
              "      <td>-427.990814</td>\n",
              "      <td>-71.426068</td>\n",
              "      <td>-83.056424</td>\n",
              "      <td>-58.058656</td>\n",
              "      <td>-64.837769</td>\n",
              "      <td>-141.073946</td>\n",
              "      <td>143.695262</td>\n",
              "      <td>13</td>\n",
              "      <td>-0.000000</td>\n",
              "      <td>-0.000000</td>\n",
              "      <td>-0.000000</td>\n",
              "      <td>-0.000000</td>\n",
              "      <td>-0.000000</td>\n",
              "      <td>0.000000</td>\n",
              "      <td>0.000000</td>\n",
              "    </tr>\n",
              "    <tr>\n",
              "      <th>12</th>\n",
              "      <td>0.448061</td>\n",
              "      <td>0.008681</td>\n",
              "      <td>0.012862</td>\n",
              "      <td>0.001349</td>\n",
              "      <td>3</td>\n",
              "      <td>30</td>\n",
              "      <td>False</td>\n",
              "      <td>{'bootstrap': False, 'max_features': 3, 'n_est...</td>\n",
              "      <td>-332.879828</td>\n",
              "      <td>-68.220105</td>\n",
              "      <td>-80.433341</td>\n",
              "      <td>-56.773624</td>\n",
              "      <td>-63.179846</td>\n",
              "      <td>-120.297349</td>\n",
              "      <td>106.574070</td>\n",
              "      <td>11</td>\n",
              "      <td>-0.000000</td>\n",
              "      <td>-0.000000</td>\n",
              "      <td>-0.000000</td>\n",
              "      <td>-0.000000</td>\n",
              "      <td>-0.000000</td>\n",
              "      <td>0.000000</td>\n",
              "      <td>0.000000</td>\n",
              "    </tr>\n",
              "    <tr>\n",
              "      <th>13</th>\n",
              "      <td>0.737376</td>\n",
              "      <td>0.019627</td>\n",
              "      <td>0.020825</td>\n",
              "      <td>0.002384</td>\n",
              "      <td>3</td>\n",
              "      <td>50</td>\n",
              "      <td>False</td>\n",
              "      <td>{'bootstrap': False, 'max_features': 3, 'n_est...</td>\n",
              "      <td>-362.910466</td>\n",
              "      <td>-68.107556</td>\n",
              "      <td>-79.513970</td>\n",
              "      <td>-56.329008</td>\n",
              "      <td>-62.998933</td>\n",
              "      <td>-125.971987</td>\n",
              "      <td>118.711611</td>\n",
              "      <td>12</td>\n",
              "      <td>-0.000000</td>\n",
              "      <td>-0.000000</td>\n",
              "      <td>-0.000000</td>\n",
              "      <td>-0.000000</td>\n",
              "      <td>-0.000000</td>\n",
              "      <td>0.000000</td>\n",
              "      <td>0.000000</td>\n",
              "    </tr>\n",
              "    <tr>\n",
              "      <th>14</th>\n",
              "      <td>0.055687</td>\n",
              "      <td>0.002087</td>\n",
              "      <td>0.002434</td>\n",
              "      <td>0.000101</td>\n",
              "      <td>4</td>\n",
              "      <td>3</td>\n",
              "      <td>False</td>\n",
              "      <td>{'bootstrap': False, 'max_features': 4, 'n_est...</td>\n",
              "      <td>-403.508479</td>\n",
              "      <td>-85.021318</td>\n",
              "      <td>-90.380410</td>\n",
              "      <td>-72.696463</td>\n",
              "      <td>-90.910207</td>\n",
              "      <td>-148.503375</td>\n",
              "      <td>127.671073</td>\n",
              "      <td>15</td>\n",
              "      <td>-0.000000</td>\n",
              "      <td>-0.000000</td>\n",
              "      <td>-0.000000</td>\n",
              "      <td>-0.000000</td>\n",
              "      <td>-0.000000</td>\n",
              "      <td>0.000000</td>\n",
              "      <td>0.000000</td>\n",
              "    </tr>\n",
              "    <tr>\n",
              "      <th>15</th>\n",
              "      <td>0.186350</td>\n",
              "      <td>0.005720</td>\n",
              "      <td>0.005528</td>\n",
              "      <td>0.000619</td>\n",
              "      <td>4</td>\n",
              "      <td>10</td>\n",
              "      <td>False</td>\n",
              "      <td>{'bootstrap': False, 'max_features': 4, 'n_est...</td>\n",
              "      <td>-556.072725</td>\n",
              "      <td>-77.089884</td>\n",
              "      <td>-86.366192</td>\n",
              "      <td>-61.817842</td>\n",
              "      <td>-80.160872</td>\n",
              "      <td>-172.301503</td>\n",
              "      <td>192.055730</td>\n",
              "      <td>17</td>\n",
              "      <td>-0.000000</td>\n",
              "      <td>-0.000000</td>\n",
              "      <td>-0.000000</td>\n",
              "      <td>-0.000000</td>\n",
              "      <td>-0.000000</td>\n",
              "      <td>0.000000</td>\n",
              "      <td>0.000000</td>\n",
              "    </tr>\n",
              "    <tr>\n",
              "      <th>16</th>\n",
              "      <td>0.547006</td>\n",
              "      <td>0.010994</td>\n",
              "      <td>0.013229</td>\n",
              "      <td>0.001499</td>\n",
              "      <td>4</td>\n",
              "      <td>30</td>\n",
              "      <td>False</td>\n",
              "      <td>{'bootstrap': False, 'max_features': 4, 'n_est...</td>\n",
              "      <td>-451.812211</td>\n",
              "      <td>-75.775620</td>\n",
              "      <td>-85.228941</td>\n",
              "      <td>-60.137863</td>\n",
              "      <td>-73.302080</td>\n",
              "      <td>-149.251343</td>\n",
              "      <td>151.492661</td>\n",
              "      <td>16</td>\n",
              "      <td>-0.000000</td>\n",
              "      <td>-0.000000</td>\n",
              "      <td>-0.000000</td>\n",
              "      <td>-0.000000</td>\n",
              "      <td>-0.000000</td>\n",
              "      <td>0.000000</td>\n",
              "      <td>0.000000</td>\n",
              "    </tr>\n",
              "    <tr>\n",
              "      <th>17</th>\n",
              "      <td>0.914841</td>\n",
              "      <td>0.030328</td>\n",
              "      <td>0.020857</td>\n",
              "      <td>0.003022</td>\n",
              "      <td>4</td>\n",
              "      <td>50</td>\n",
              "      <td>False</td>\n",
              "      <td>{'bootstrap': False, 'max_features': 4, 'n_est...</td>\n",
              "      <td>-417.937072</td>\n",
              "      <td>-74.192244</td>\n",
              "      <td>-85.072252</td>\n",
              "      <td>-59.451902</td>\n",
              "      <td>-71.036787</td>\n",
              "      <td>-141.538052</td>\n",
              "      <td>138.440476</td>\n",
              "      <td>14</td>\n",
              "      <td>-0.000000</td>\n",
              "      <td>-0.000000</td>\n",
              "      <td>-0.000000</td>\n",
              "      <td>-0.000000</td>\n",
              "      <td>-0.000000</td>\n",
              "      <td>0.000000</td>\n",
              "      <td>0.000000</td>\n",
              "    </tr>\n",
              "  </tbody>\n",
              "</table>\n",
              "</div>"
            ],
            "text/plain": [
              "    mean_fit_time  std_fit_time  ...  mean_train_score  std_train_score\n",
              "0        0.083200      0.004841  ...         -9.596551         0.666890\n",
              "1        0.240506      0.007059  ...         -7.757806         0.503069\n",
              "2        0.391697      0.008517  ...         -7.480494         0.549849\n",
              "3        0.121822      0.003134  ...         -9.771794         0.768891\n",
              "4        0.349243      0.006268  ...         -7.911907         0.541058\n",
              "5        0.580095      0.016740  ...         -7.581656         0.580434\n",
              "6        0.037034      0.001235  ...          0.000000         0.000000\n",
              "7        0.122993      0.005032  ...          0.000000         0.000000\n",
              "8        0.353037      0.003525  ...          0.000000         0.000000\n",
              "9        0.589303      0.012367  ...          0.000000         0.000000\n",
              "10       0.045517      0.001441  ...          0.000000         0.000000\n",
              "11       0.153121      0.003199  ...          0.000000         0.000000\n",
              "12       0.448061      0.008681  ...          0.000000         0.000000\n",
              "13       0.737376      0.019627  ...          0.000000         0.000000\n",
              "14       0.055687      0.002087  ...          0.000000         0.000000\n",
              "15       0.186350      0.005720  ...          0.000000         0.000000\n",
              "16       0.547006      0.010994  ...          0.000000         0.000000\n",
              "17       0.914841      0.030328  ...          0.000000         0.000000\n",
              "\n",
              "[18 rows x 23 columns]"
            ]
          },
          "metadata": {
            "tags": []
          },
          "execution_count": 35
        }
      ]
    },
    {
      "cell_type": "code",
      "metadata": {
        "colab": {
          "base_uri": "https://localhost:8080/"
        },
        "id": "YTsDZsY7pMhj",
        "outputId": "99579c97-eb13-4dfb-fe38-419472753095"
      },
      "source": [
        "from sklearn.model_selection import RandomizedSearchCV\n",
        "from scipy.stats import randint\n",
        "\n",
        "param_distribs = {\n",
        "        'n_estimators': randint(low=1, high=200),\n",
        "        'max_features': randint(low=1, high=4),\n",
        "    }\n",
        "\n",
        "forest_reg = RandomForestRegressor(random_state=42)\n",
        "rnd_search = RandomizedSearchCV(forest_reg, param_distributions=param_distribs,\n",
        "                                n_iter=10, cv=5, scoring='neg_mean_squared_error', random_state=42)\n",
        "rnd_search.fit(x_train_ht, y_train_ht)"
      ],
      "execution_count": 36,
      "outputs": [
        {
          "output_type": "execute_result",
          "data": {
            "text/plain": [
              "RandomizedSearchCV(cv=5, error_score=nan,\n",
              "                   estimator=RandomForestRegressor(bootstrap=True,\n",
              "                                                   ccp_alpha=0.0,\n",
              "                                                   criterion='mse',\n",
              "                                                   max_depth=None,\n",
              "                                                   max_features='auto',\n",
              "                                                   max_leaf_nodes=None,\n",
              "                                                   max_samples=None,\n",
              "                                                   min_impurity_decrease=0.0,\n",
              "                                                   min_impurity_split=None,\n",
              "                                                   min_samples_leaf=1,\n",
              "                                                   min_samples_split=2,\n",
              "                                                   min_weight_fraction_leaf=0.0,\n",
              "                                                   n_estimators=100,\n",
              "                                                   n_jobs=None, oob_score=Fals...\n",
              "                                                   warm_start=False),\n",
              "                   iid='deprecated', n_iter=10, n_jobs=None,\n",
              "                   param_distributions={'max_features': <scipy.stats._distn_infrastructure.rv_frozen object at 0x7f8279aa6160>,\n",
              "                                        'n_estimators': <scipy.stats._distn_infrastructure.rv_frozen object at 0x7f8279aa6c50>},\n",
              "                   pre_dispatch='2*n_jobs', random_state=42, refit=True,\n",
              "                   return_train_score=False, scoring='neg_mean_squared_error',\n",
              "                   verbose=0)"
            ]
          },
          "metadata": {
            "tags": []
          },
          "execution_count": 36
        }
      ]
    },
    {
      "cell_type": "code",
      "metadata": {
        "colab": {
          "base_uri": "https://localhost:8080/"
        },
        "id": "-sGKLtvCpcFT",
        "outputId": "0de2ad93-9dd4-42ed-b462-1e1988c90820"
      },
      "source": [
        "cvres = rnd_search.cv_results_\n",
        "for mean_score, params in zip(cvres[\"mean_test_score\"], cvres[\"params\"]):\n",
        "    print(np.sqrt(-mean_score), params)\n"
      ],
      "execution_count": 37,
      "outputs": [
        {
          "output_type": "stream",
          "text": [
            "8.560561784085458 {'max_features': 3, 'n_estimators': 180}\n",
            "8.310882276382351 {'max_features': 1, 'n_estimators': 15}\n",
            "8.529598520793693 {'max_features': 3, 'n_estimators': 72}\n",
            "8.24845911647956 {'max_features': 1, 'n_estimators': 21}\n",
            "8.498635746174156 {'max_features': 3, 'n_estimators': 122}\n",
            "8.583796829511746 {'max_features': 3, 'n_estimators': 75}\n",
            "8.624280454941516 {'max_features': 3, 'n_estimators': 88}\n",
            "8.26123653658289 {'max_features': 1, 'n_estimators': 100}\n",
            "8.490690252419546 {'max_features': 3, 'n_estimators': 150}\n",
            "9.970231855669855 {'max_features': 1, 'n_estimators': 2}\n"
          ],
          "name": "stdout"
        }
      ]
    },
    {
      "cell_type": "code",
      "metadata": {
        "colab": {
          "base_uri": "https://localhost:8080/"
        },
        "id": "eLdPoVPUpk2S",
        "outputId": "756b49df-9e36-4d44-b30e-58f07dc0b4a6"
      },
      "source": [
        "feature_importances = rnd_search.best_estimator_.feature_importances_\n",
        "feature_importances"
      ],
      "execution_count": 38,
      "outputs": [
        {
          "output_type": "execute_result",
          "data": {
            "text/plain": [
              "array([0.45610312, 0.        , 0.44608796, 0.04064974, 0.05715917])"
            ]
          },
          "metadata": {
            "tags": []
          },
          "execution_count": 38
        }
      ]
    },
    {
      "cell_type": "code",
      "metadata": {
        "id": "dcIbKu8ppmRu"
      },
      "source": [
        "final_model = rnd_search.best_estimator_"
      ],
      "execution_count": 39,
      "outputs": []
    },
    {
      "cell_type": "code",
      "metadata": {
        "id": "hSb3_z6WKCJy"
      },
      "source": [
        "y_test=val2['delay']"
      ],
      "execution_count": 40,
      "outputs": []
    },
    {
      "cell_type": "code",
      "metadata": {
        "id": "nu-WEpAqpyvv"
      },
      "source": [
        "x_test = val2.drop(['delay'], axis=1)"
      ],
      "execution_count": 41,
      "outputs": []
    },
    {
      "cell_type": "code",
      "metadata": {
        "id": "cmIMWW_OqMgf"
      },
      "source": [
        "final_predictions = final_model.predict(x_test)"
      ],
      "execution_count": 42,
      "outputs": []
    },
    {
      "cell_type": "code",
      "metadata": {
        "id": "6pddiE1aqc27"
      },
      "source": [
        "final_mse = mean_squared_error(y_test, final_predictions)\n",
        "final_rmse = np.sqrt(final_mse)"
      ],
      "execution_count": 43,
      "outputs": []
    },
    {
      "cell_type": "code",
      "metadata": {
        "colab": {
          "base_uri": "https://localhost:8080/"
        },
        "id": "oPZcbfQUqy4k",
        "outputId": "317d6914-ee28-4d4a-e9f0-48d6d13c2f07"
      },
      "source": [
        "final_rmse"
      ],
      "execution_count": 44,
      "outputs": [
        {
          "output_type": "execute_result",
          "data": {
            "text/plain": [
              "10.479936982601377"
            ]
          },
          "metadata": {
            "tags": []
          },
          "execution_count": 44
        }
      ]
    },
    {
      "cell_type": "code",
      "metadata": {
        "id": "019ud3uwrBm0"
      },
      "source": [
        "#trying out xgboost "
      ],
      "execution_count": 45,
      "outputs": []
    },
    {
      "cell_type": "code",
      "metadata": {
        "id": "sOY68jM5KL5h"
      },
      "source": [
        "import xgboost as xgb"
      ],
      "execution_count": 46,
      "outputs": []
    },
    {
      "cell_type": "code",
      "metadata": {
        "id": "M8b-P_sdLTgC"
      },
      "source": [
        "xg = xgb.XGBRegressor()"
      ],
      "execution_count": 47,
      "outputs": []
    },
    {
      "cell_type": "code",
      "metadata": {
        "colab": {
          "base_uri": "https://localhost:8080/"
        },
        "id": "gQRCCZyqLH2K",
        "outputId": "f3ba221a-9e0e-4cce-d217-b1d9696619b6"
      },
      "source": [
        "xg.fit(x_test,y_test)"
      ],
      "execution_count": 48,
      "outputs": [
        {
          "output_type": "stream",
          "text": [
            "[13:09:44] WARNING: /workspace/src/objective/regression_obj.cu:152: reg:linear is now deprecated in favor of reg:squarederror.\n"
          ],
          "name": "stdout"
        },
        {
          "output_type": "execute_result",
          "data": {
            "text/plain": [
              "XGBRegressor(base_score=0.5, booster='gbtree', colsample_bylevel=1,\n",
              "             colsample_bynode=1, colsample_bytree=1, gamma=0,\n",
              "             importance_type='gain', learning_rate=0.1, max_delta_step=0,\n",
              "             max_depth=3, min_child_weight=1, missing=None, n_estimators=100,\n",
              "             n_jobs=1, nthread=None, objective='reg:linear', random_state=0,\n",
              "             reg_alpha=0, reg_lambda=1, scale_pos_weight=1, seed=None,\n",
              "             silent=None, subsample=1, verbosity=1)"
            ]
          },
          "metadata": {
            "tags": []
          },
          "execution_count": 48
        }
      ]
    },
    {
      "cell_type": "code",
      "metadata": {
        "id": "glgn_8bILX7x"
      },
      "source": [
        "test_res = xg.predict(x_test)"
      ],
      "execution_count": 49,
      "outputs": []
    },
    {
      "cell_type": "code",
      "metadata": {
        "id": "9xcgh7-OLnb7"
      },
      "source": [
        "import sklearn.metrics as sm"
      ],
      "execution_count": 50,
      "outputs": []
    },
    {
      "cell_type": "code",
      "metadata": {
        "colab": {
          "base_uri": "https://localhost:8080/"
        },
        "id": "bNKDvyBjLdpi",
        "outputId": "06b25ff6-8a88-476a-cb91-a365ce6c1360"
      },
      "source": [
        "sm.mean_squared_error(y_test,test_res)"
      ],
      "execution_count": 51,
      "outputs": [
        {
          "output_type": "execute_result",
          "data": {
            "text/plain": [
              "77.44197461231403"
            ]
          },
          "metadata": {
            "tags": []
          },
          "execution_count": 51
        }
      ]
    },
    {
      "cell_type": "code",
      "metadata": {
        "id": "BPZlVM3oLgAB"
      },
      "source": [
        "sq=sm.mean_squared_error(y_test,test_res)"
      ],
      "execution_count": 52,
      "outputs": []
    },
    {
      "cell_type": "code",
      "metadata": {
        "id": "Pql0ZbA3MFoM"
      },
      "source": [
        "sq=np.sqrt(sq)"
      ],
      "execution_count": 53,
      "outputs": []
    },
    {
      "cell_type": "code",
      "metadata": {
        "colab": {
          "base_uri": "https://localhost:8080/"
        },
        "id": "vXj99m2_MPoJ",
        "outputId": "7b9e2c06-bf0a-4760-b5f6-72aa822fe27b"
      },
      "source": [
        "sq"
      ],
      "execution_count": 54,
      "outputs": [
        {
          "output_type": "execute_result",
          "data": {
            "text/plain": [
              "8.80011219316629"
            ]
          },
          "metadata": {
            "tags": []
          },
          "execution_count": 54
        }
      ]
    },
    {
      "cell_type": "code",
      "metadata": {
        "id": "UwE5sz8lMWTA"
      },
      "source": [
        "#so using xgboost error comes out to be 8"
      ],
      "execution_count": null,
      "outputs": []
    },
    {
      "cell_type": "code",
      "metadata": {
        "id": "9E4ghEU_q_3w"
      },
      "source": [
        "#bucketization of the delay column"
      ],
      "execution_count": null,
      "outputs": []
    },
    {
      "cell_type": "code",
      "metadata": {
        "id": "OH7vVkrGrFY7"
      },
      "source": [
        "def bucketization(data):\r\n",
        "  if(data >= 0 and data <= 15):\r\n",
        "    print(\"bucket 0\")\r\n",
        "  elif(data >= 16 and data <= 30):\r\n",
        "    print(\"bucket 1\")\r\n",
        "  elif(data >= 31 and data <= 45):\r\n",
        "    print(\"bucket 2\")\r\n",
        "  elif(data >= 46 and data <= 60):\r\n",
        "    print(\"bucket 3\")\r\n",
        "  elif(data >= 60):\r\n",
        "    print(\"bucket 4\")\r\n",
        "  else:\r\n",
        "    print(\"early bucket\")"
      ],
      "execution_count": 59,
      "outputs": []
    },
    {
      "cell_type": "code",
      "metadata": {
        "id": "uSi1A30XuVM0",
        "outputId": "21b52871-1ad2-42b2-f55a-2668c5826a17",
        "colab": {
          "base_uri": "https://localhost:8080/"
        }
      },
      "source": [
        "bucketization(test_res[5])"
      ],
      "execution_count": 60,
      "outputs": [
        {
          "output_type": "stream",
          "text": [
            "early bucket\n"
          ],
          "name": "stdout"
        }
      ]
    },
    {
      "cell_type": "code",
      "metadata": {
        "id": "5GM-pSHTuhW0",
        "outputId": "e80f27f2-3269-4731-9efb-c9b670f918f8",
        "colab": {
          "base_uri": "https://localhost:8080/"
        }
      },
      "source": [
        "bucketization(test_res[50])"
      ],
      "execution_count": 61,
      "outputs": [
        {
          "output_type": "stream",
          "text": [
            "bucket 0\n"
          ],
          "name": "stdout"
        }
      ]
    },
    {
      "cell_type": "code",
      "metadata": {
        "id": "GfkYxLIUu19b"
      },
      "source": [
        ""
      ],
      "execution_count": null,
      "outputs": []
    }
  ]
}